{
 "cells": [
  {
   "cell_type": "markdown",
   "metadata": {},
   "source": [
    "# DS 3000 - Practicum1\n",
    "\n",
    "**Student Name**: Peter Boerth, Kelly Luo, Matthew Hu, Avi Srinivasan\n",
    "\n",
    "**Date**: 10/5/24"
   ]
  },
  {
   "cell_type": "markdown",
   "metadata": {},
   "source": [
    "## Question 1: \n"
   ]
  },
  {
   "cell_type": "markdown",
   "metadata": {},
   "source": [
    "1. In your own words, formulate the Data Science problem that you were given."
   ]
  },
  {
   "cell_type": "markdown",
   "metadata": {},
   "source": [
    "Explore air traffic data from 2019 in AZ, NV, CA to determine patterns in flight delays and aiport traffic, as well specific airline carriers tendencies."
   ]
  },
  {
   "cell_type": "markdown",
   "metadata": {},
   "source": [
    "## Question 2: \n"
   ]
  },
  {
   "cell_type": "markdown",
   "metadata": {},
   "source": [
    "1. Evaluate the dataset to determine if ALL variables are represented in their expected type. Convert variables to suitable data types (if needed)."
   ]
  },
  {
   "cell_type": "code",
   "execution_count": 5,
   "metadata": {},
   "outputs": [],
   "source": [
    "import pandas as pd\n",
    "import numpy as np"
   ]
  },
  {
   "cell_type": "code",
   "execution_count": 8,
   "metadata": {},
   "outputs": [
    {
     "name": "stdout",
     "output_type": "stream",
     "text": [
      "<class 'pandas.core.frame.DataFrame'>\n",
      "RangeIndex: 1897503 entries, 0 to 1897502\n",
      "Data columns (total 14 columns):\n",
      " #   Column        Dtype         \n",
      "---  ------        -----         \n",
      " 0   FL_DATE       datetime64[us]\n",
      " 1   CARRIER_CODE  string        \n",
      " 2   TAIL_NUM      string        \n",
      " 3   FL_NUM        int64         \n",
      " 4   ORIGIN        string        \n",
      " 5   ORIGIN_ST     string        \n",
      " 6   DEST          string        \n",
      " 7   DEST_ST       string        \n",
      " 8   DEP_TIME      object        \n",
      " 9   DEP_DELAY     float64       \n",
      " 10  ARR_TIME      object        \n",
      " 11  ARR_DELAY     float64       \n",
      " 12  ELAPSED_TIME  float64       \n",
      " 13  DISTANCE      int64         \n",
      "dtypes: datetime64[us](1), float64(3), int64(2), object(2), string(6)\n",
      "memory usage: 202.7+ MB\n"
     ]
    }
   ],
   "source": [
    "# load the csv into a dataframe\n",
    "flight_data_df = pd.read_csv('2019_ONTIME_REPORTING_FSW.csv')\n",
    "\n",
    "# convert columns to better data types\n",
    "flight_data_df['FL_DATE'] = flight_data_df['FL_DATE'].astype('datetime64[us]')\n",
    "flight_data_df['CARRIER_CODE'] = flight_data_df['CARRIER_CODE'].astype('string')\n",
    "flight_data_df['TAIL_NUM'] = flight_data_df['TAIL_NUM'].astype('string')\n",
    "flight_data_df['ORIGIN'] = flight_data_df['ORIGIN'].astype('string')\n",
    "flight_data_df['ORIGIN_ST'] = flight_data_df['ORIGIN_ST'].astype('string')\n",
    "flight_data_df['DEST'] = flight_data_df['DEST'].astype('string')\n",
    "flight_data_df['DEST_ST'] = flight_data_df['DEST_ST'].astype('string')\n",
    "flight_data_df['DEP_TIME'] = flight_data_df['DEP_TIME'].apply(\n",
    "    lambda x: f'{int(x):04d}'  if pd.notna(x) and int(x) > 0 else None)\n",
    "flight_data_df['DEP_TIME'] = pd.to_datetime(flight_data_df['DEP_TIME'], format='%H%M', errors='coerce').dt.time\n",
    "flight_data_df['ARR_TIME'] = flight_data_df['ARR_TIME'].apply(\n",
    "    lambda x: f'{int(x):04d}'  if pd.notna(x) else None)\n",
    "flight_data_df['ARR_TIME'] = pd.to_datetime(flight_data_df['ARR_TIME'], format='%H%M', errors='coerce').dt.time\n",
    "\n",
    "# check to see that the datatypes have been changed\n",
    "flight_data_df.info()"
   ]
  },
  {
   "cell_type": "markdown",
   "metadata": {},
   "source": [
    "2. Analyze the data to determine what preprocessing steps are needed. Perform the required data preparation steps. At a minimum, ensure that you handle both missing and invalid values. Justify the approach that is taken to prepare the data for analysis"
   ]
  },
  {
   "cell_type": "code",
   "execution_count": 11,
   "metadata": {},
   "outputs": [
    {
     "data": {
      "text/plain": [
       "FL_DATE         0\n",
       "CARRIER_CODE    0\n",
       "TAIL_NUM        0\n",
       "FL_NUM          0\n",
       "ORIGIN          0\n",
       "ORIGIN_ST       0\n",
       "DEST            0\n",
       "DEST_ST         0\n",
       "DEP_TIME        0\n",
       "DEP_DELAY       0\n",
       "ARR_TIME        0\n",
       "ARR_DELAY       0\n",
       "ELAPSED_TIME    0\n",
       "DISTANCE        0\n",
       "dtype: int64"
      ]
     },
     "execution_count": 11,
     "metadata": {},
     "output_type": "execute_result"
    }
   ],
   "source": [
    "# drop the rows that have null values \n",
    "flight_data_df = flight_data_df.dropna(subset=['DEP_TIME', 'DEP_DELAY', 'ARR_TIME', 'ARR_DELAY', 'ELAPSED_TIME'])\n",
    "\n",
    "# verify that all null values have been deleted\n",
    "print(flight_data_df.isna().sum())"
   ]
  },
  {
   "cell_type": "code",
   "execution_count": 14,
   "metadata": {},
   "outputs": [
    {
     "name": "stdout",
     "output_type": "stream",
     "text": [
      "<class 'pandas.core.series.Series'>\n",
      "Index: 1864429 entries, 0 to 1897502\n",
      "Series name: FL_DATE\n",
      "Non-Null Count    Dtype         \n",
      "--------------    -----         \n",
      "1864429 non-null  datetime64[us]\n",
      "dtypes: datetime64[us](1)\n",
      "memory usage: 28.4 MB\n"
     ]
    }
   ],
   "source": [
    "flight_data_df['FL_DATE'].info() "
   ]
  },
  {
   "cell_type": "markdown",
   "metadata": {},
   "source": [
    "3. At a high level explain what the dataset is about and provide at least three visualizations to support your explanation of DS problem from Question 1. Note: this explanation and visualizations should be relevant to the DS Problem in question 1."
   ]
  },
  {
   "cell_type": "markdown",
   "metadata": {},
   "source": []
  }
 ],
 "metadata": {
  "kernelspec": {
   "display_name": "Python 3 (ipykernel)",
   "language": "python",
   "name": "python3"
  },
  "language_info": {
   "codemirror_mode": {
    "name": "ipython",
    "version": 3
   },
   "file_extension": ".py",
   "mimetype": "text/x-python",
   "name": "python",
   "nbconvert_exporter": "python",
   "pygments_lexer": "ipython3",
   "version": "3.12.0"
  }
 },
 "nbformat": 4,
 "nbformat_minor": 4
}
